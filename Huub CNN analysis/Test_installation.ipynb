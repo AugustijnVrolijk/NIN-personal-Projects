{
 "cells": [
  {
   "cell_type": "markdown",
   "id": "45a1ec6e-cc7d-45e8-a72e-9ada34efa8f3",
   "metadata": {},
   "source": [
    "#### Test installation"
   ]
  },
  {
   "cell_type": "code",
   "execution_count": 1,
   "id": "f5fa245d-4ec2-4faa-9338-2d98c9ed89fa",
   "metadata": {},
   "outputs": [],
   "source": [
    "import torch\n",
    "import torchvision.models as models \n",
    "import torchvision.transforms.functional as F\n",
    "import torch.nn.functional as nnf\n",
    "from torchvision import datasets, transforms\n",
    "from torchvision.transforms.functional import crop\n",
    "from torch import sigmoid\n",
    "\n",
    "from lucent.optvis import render, param, transform, objectives\n",
    "from lucent.modelzoo import inceptionv1, util, inceptionv1_avgPool\n",
    "from lucent.util import set_seed\n",
    "from lucent.optvis.objectives import wrap_objective\n",
    "\n",
    "import numpy as np\n",
    "import pickle\n",
    "from scipy import stats\n",
    "from scipy.io import savemat,loadmat\n",
    "from pathlib import Path\n",
    "import os\n",
    "from os import listdir\n",
    "from os.path import isfile, join\n",
    "import h5py\n",
    "import time\n",
    "\n",
    "import matplotlib\n",
    "import matplotlib.pyplot as plt\n",
    "from matplotlib.patches import Ellipse\n",
    "import shapely.affinity\n",
    "import shapely.geometry\n",
    "from skimage.draw import polygon\n",
    "from skimage.morphology import convex_hull_image\n",
    "from skimage.filters import gaussian as smoothing\n",
    "from PIL import Image  \n",
    "\n",
    "import math\n",
    "from tqdm import tqdm\n",
    "\n",
    "from helper import smoothing_laplacian_loss, sparsity_loss, gaussian, moments, fitgaussian, load, gabor_patch, occlude_pic\n",
    "from neural_model import Model\n",
    "\n",
    "import torch\n",
    "from torch import nn, Tensor\n",
    "import torch.nn.functional as F\n",
    "from typing import Dict, Iterable, Callable\n",
    "import numpy as np\n",
    "from helper import makeGaussian, FeatureExtractor, fix_parameters, load_sta\n",
    "\n",
    "import torch\n",
    "from torch import nn, Tensor, FloatTensor\n",
    "import torch.nn.functional as F\n",
    "\n",
    "from typing import Dict, Iterable, Callable\n",
    "\n",
    "from PIL import Image\n",
    "import numpy as np\n",
    "from math import exp\n",
    "from scipy import optimize"
   ]
  },
  {
   "cell_type": "markdown",
   "id": "f0da63c6-6ae2-4139-9962-6ca25e60b581",
   "metadata": {},
   "source": [
    "This one needs to return 'True':"
   ]
  },
  {
   "cell_type": "code",
   "execution_count": 2,
   "id": "81cdb458-9f35-406b-afaf-da689a22a6bc",
   "metadata": {},
   "outputs": [
    {
     "data": {
      "text/plain": [
       "True"
      ]
     },
     "execution_count": 2,
     "metadata": {},
     "output_type": "execute_result"
    }
   ],
   "source": [
    "torch.cuda.is_available()"
   ]
  },
  {
   "cell_type": "code",
   "execution_count": null,
   "id": "059e446a-7943-4d56-b288-6d64f095df00",
   "metadata": {},
   "outputs": [],
   "source": []
  }
 ],
 "metadata": {
  "kernelspec": {
   "display_name": "Python 3 (ipykernel)",
   "language": "python",
   "name": "python3"
  },
  "language_info": {
   "codemirror_mode": {
    "name": "ipython",
    "version": 3
   },
   "file_extension": ".py",
   "mimetype": "text/x-python",
   "name": "python",
   "nbconvert_exporter": "python",
   "pygments_lexer": "ipython3",
   "version": "3.9.19"
  }
 },
 "nbformat": 4,
 "nbformat_minor": 5
}

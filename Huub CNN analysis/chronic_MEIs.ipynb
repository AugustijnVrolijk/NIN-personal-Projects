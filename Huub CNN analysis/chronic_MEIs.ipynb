{
 "cells": [
  {
   "cell_type": "markdown",
   "id": "hawaiian-sewing",
   "metadata": {},
   "source": [
    "## Chronic MEIs\n",
    "#### Pipeline for generating images that maximizes the difference in selectivity between two sessions, using chronic matching "
   ]
  },
  {
   "cell_type": "code",
   "execution_count": null,
   "id": "overhead-commonwealth",
   "metadata": {},
   "outputs": [],
   "source": [
    "import npc\n",
    "import numpy as np\n",
    "import h5py\n",
    "from neural_model import ModelsDiff\n",
    "\n",
    "# data-constants:\n",
    "mice_names = ['ALL_Muckli_L5','ALL_Muckli_L5']\n",
    "train_names = ['pre_4k','post_4k'] #these are names used for the output, they are not part of the input filename\n",
    "gen_path = '/media/stijn/2bb74e85-3681-4561-88b7-abd98482de61/paolo/Data_mice/'"
   ]
  },
  {
   "cell_type": "code",
   "execution_count": null,
   "id": "palestinian-strength",
   "metadata": {},
   "outputs": [],
   "source": [
    "# load and store the models:\n",
    "#models = {}\n",
    "z = 0\n",
    "for mouse_name, training in zip(mice_names, train_names):\n",
    "#    if training != '':\n",
    "#        training_ = '_' + training\n",
    "#    mouse_model = npc.load_mouse_model(gen_path,mouse_name,training_)\n",
    "#    models[z] = mouse_model\n",
    "    z+=1\n",
    "    \n",
    "model_0,n_neurons,good_neurons,reds,mean_reliab,snr = npc.load_mouse_model(gen_path,mice_names[0],'_'+train_names[0])\n",
    "model_1,n_neurons,good_neurons,reds,mean_reliab,snr = npc.load_mouse_model(gen_path,mice_names[1],'_'+train_names[1])\n",
    "\n",
    "# load chronic table\n",
    "data_path = gen_path + mouse_name +'_chronic_match.mat'\n",
    "data_dict = {}\n",
    "f = h5py.File(data_path,'r')\n",
    "for k, v in f.items():\n",
    "    data_dict[k] = np.array(v)\n",
    "    \n",
    "chronic_goods = data_dict['chronic_goods'].astype(int)-1   \n",
    "#match_model = ModelsDiff(models,chronic_goods)\n",
    "match_model = ModelsDiff(model_0,model_1,chronic_goods)\n",
    "\n",
    "# generate the MEIs + the surround MEIs\n",
    "npc.generate_MEIS(match_model,mouse_name + '_chronic_match')    \n"
   ]
  }
 ],
 "metadata": {
  "kernelspec": {
   "display_name": "Python 3",
   "language": "python",
   "name": "python3"
  },
  "language_info": {
   "codemirror_mode": {
    "name": "ipython",
    "version": 3
   },
   "file_extension": ".py",
   "mimetype": "text/x-python",
   "name": "python",
   "nbconvert_exporter": "python",
   "pygments_lexer": "ipython3",
   "version": "3.6.9"
  }
 },
 "nbformat": 4,
 "nbformat_minor": 5
}
